{
 "cells": [
  {
   "cell_type": "markdown",
   "id": "4ea522ea",
   "metadata": {},
   "source": [
    "## Задача №1"
   ]
  },
  {
   "cell_type": "markdown",
   "id": "632fed58",
   "metadata": {},
   "source": [
    "**Подкинули монету N раз. Кол-во случаев, когда выпал орёл, на 10% больше, чем кол-во случаев, когда выпала решка. При каком N мы можем сказать, что монета «нечестная» (орёл и решка выпадают с разной вероятностью)?**"
   ]
  },
  {
   "cell_type": "markdown",
   "id": "5f4edb67",
   "metadata": {},
   "source": [
    "А на сколько мы хотим быть уверены? Предполагаю, что эта задача из статистики) Воспользуюсь **гипотезой о вероятности события**. Её критерий:\n",
    "* U = ((w - p0) * (N**0.5)) / (p0 * q0), где **q0** - 1 - p0\n"
   ]
  },
  {
   "cell_type": "markdown",
   "id": "d41d1ae9",
   "metadata": {},
   "source": [
    "Критическая оценка для него определяет по таблице Лапласса:\n",
    "* fi(Ucr) = (1 - 2a) / 2   -  для правостороннего случая. a - в моём случае 0.01"
   ]
  },
  {
   "cell_type": "markdown",
   "id": "e158615a",
   "metadata": {},
   "source": [
    "Я хочу определить точку при которой наш критерий пересечёт критическое значение. Подставив критическое значение вместо критерия в формулу, я смогу узнать необходимое количиство испытаний. "
   ]
  },
  {
   "cell_type": "markdown",
   "id": "5f432c3c",
   "metadata": {},
   "source": [
    "Минуя преобразования, сразу запишу формулу:"
   ]
  },
  {
   "cell_type": "code",
   "execution_count": 7,
   "id": "f805ec65",
   "metadata": {},
   "outputs": [
    {
     "data": {
      "text/plain": [
       "2652.2499999999955"
      ]
     },
     "execution_count": 7,
     "metadata": {},
     "output_type": "execute_result"
    }
   ],
   "source": [
    "fi = 2.06 #определил по таблице Лапласса по значению 0.01\n",
    "p0 = .5 #Априорная вероятность выпадение орла\n",
    "w = .52 #Указал примерное значение в случае 10%\n",
    "\n",
    "n = (fi / (2*(w - p0))) ** 2\n",
    "n    "
   ]
  },
  {
   "cell_type": "markdown",
   "id": "cd6d1d5b",
   "metadata": {},
   "source": [
    "**Ответ: Примерно 2652 и один неудачный бросок.**"
   ]
  },
  {
   "cell_type": "markdown",
   "id": "4e03ab8b",
   "metadata": {},
   "source": [
    "## Задача №2"
   ]
  },
  {
   "cell_type": "markdown",
   "id": "15338742",
   "metadata": {},
   "source": [
    "**Есть две монеты: «правильная» (с одной стороны орёл, с другой решка) и «неправильная» (орёл на обеих сторонах). Берём одну монету наугад и подкидываем 5 раз. Все 5 раз выпадает орёл. Какова вероятность того, что выбрали «правильную» монету?**\n"
   ]
  },
  {
   "cell_type": "markdown",
   "id": "095c6f5f",
   "metadata": {},
   "source": [
    "Не вижу подвоха у этой задачи. События должны наступить подряд зависимо. Вероятность выпадения орла на правильной монетки - 1/2. Вероятность взять правильную монетку - 1/2. Следовательно: "
   ]
  },
  {
   "cell_type": "code",
   "execution_count": 8,
   "id": "4964cd1c",
   "metadata": {},
   "outputs": [
    {
     "data": {
      "text/plain": [
       "0.015625"
      ]
     },
     "execution_count": 8,
     "metadata": {},
     "output_type": "execute_result"
    }
   ],
   "source": [
    "(0.5)**6"
   ]
  },
  {
   "cell_type": "markdown",
   "id": "26ff181c",
   "metadata": {},
   "source": [
    "**Ответ: 0.015625**"
   ]
  }
 ],
 "metadata": {
  "kernelspec": {
   "display_name": "Python 3",
   "language": "python",
   "name": "python3"
  },
  "language_info": {
   "codemirror_mode": {
    "name": "ipython",
    "version": 3
   },
   "file_extension": ".py",
   "mimetype": "text/x-python",
   "name": "python",
   "nbconvert_exporter": "python",
   "pygments_lexer": "ipython3",
   "version": "3.8.8"
  }
 },
 "nbformat": 4,
 "nbformat_minor": 5
}
